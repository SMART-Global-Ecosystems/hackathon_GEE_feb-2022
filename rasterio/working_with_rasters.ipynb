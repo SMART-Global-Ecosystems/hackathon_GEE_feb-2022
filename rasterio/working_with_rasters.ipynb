{
 "cells": [
  {
   "cell_type": "markdown",
   "metadata": {},
   "source": [
    "# ⏏️ Mount Drive into google Colab\n",
    "\n",
    "This will allow us to use images stored in Google Drive into this Colab Notebook.\n",
    "\n",
    "To get the images folder into your Google Drive follow [this link](https://drive.google.com/drive/folders/1bYzG_FN6Bpw_IgYd7hHjKam6tDN4VEHL).\n",
    "\n",
    "Or you can use the sample Micasense orthomosaic by downloading it from [here](http://static.micasense.com/samples/REX_farm_ortho.tif)."
   ]
  },
  {
   "cell_type": "code",
   "execution_count": null,
   "metadata": {},
   "outputs": [],
   "source": [
    "# Connect Google Drive with this notebook\n",
    "from google.colab import drive\n",
    "drive.mount(\"/content/drive\")"
   ]
  },
  {
   "cell_type": "markdown",
   "metadata": {},
   "source": [
    "# 📦 Use **Rasterio** Python library to read TIFF images"
   ]
  },
  {
   "cell_type": "markdown",
   "metadata": {},
   "source": [
    "First install the library"
   ]
  },
  {
   "cell_type": "code",
   "execution_count": null,
   "metadata": {},
   "outputs": [],
   "source": [
    "!pip install rasterio"
   ]
  },
  {
   "cell_type": "markdown",
   "metadata": {},
   "source": [
    "Then load the raster"
   ]
  },
  {
   "cell_type": "code",
   "execution_count": null,
   "metadata": {},
   "outputs": [],
   "source": [
    "# ⚠️ Change this path to the one pointing to your Micasense Image\n",
    "img_path = \"/content/drive/MyDrive/REX_farm_ortho.tif\""
   ]
  },
  {
   "cell_type": "code",
   "execution_count": null,
   "metadata": {},
   "outputs": [],
   "source": [
    "import rasterio\n",
    "src = rasterio.open(img_path)"
   ]
  },
  {
   "cell_type": "markdown",
   "metadata": {},
   "source": [
    "Plot the Raster"
   ]
  },
  {
   "cell_type": "code",
   "execution_count": null,
   "metadata": {},
   "outputs": [],
   "source": [
    "import matplotlib.pyplot as plt\n",
    "from rasterio.plot import show\n",
    "\n",
    "plt.figure(figsize=(20, 14))  # make image bigger\n",
    "show(src)"
   ]
  },
  {
   "cell_type": "markdown",
   "metadata": {},
   "source": [
    "# 🌳 Compute NDVI \n",
    "\n",
    "The **NDVI** is a dimensionless index that measures **live green vegetation**.\n",
    "\n",
    "NDVI = (NIR - RED) / (NIR + RED)"
   ]
  },
  {
   "cell_type": "code",
   "execution_count": null,
   "metadata": {},
   "outputs": [],
   "source": [
    "# Micasense stores RED in the 3rd band and NIR in the 4th band and \n",
    "near_infrared_band = src.read(4)  \n",
    "red_band = src.read(3)\n",
    "\n",
    "ndvi = (near_infrared_band - red_band) / (near_infrared_band + red_band)"
   ]
  },
  {
   "cell_type": "code",
   "execution_count": null,
   "metadata": {},
   "outputs": [],
   "source": [
    "# Plot NDVI\n",
    "\n",
    "plt.figure(figsize=(20, 14))  # make image bigger\n",
    "show(ndvi)"
   ]
  },
  {
   "cell_type": "markdown",
   "metadata": {},
   "source": [
    "# 💾 Save NDVI raster"
   ]
  },
  {
   "cell_type": "code",
   "execution_count": null,
   "metadata": {},
   "outputs": [],
   "source": [
    "# documentation: https://rasterio.readthedocs.io/en/latest/topics/writing.html\n",
    "\n",
    "with rasterio.Env():\n",
    "\n",
    "    # Write an array as a raster band to a new float32 file. For\n",
    "    # the new file's profile, we start with the profile of the source\n",
    "    profile = src.profile\n",
    "\n",
    "    # And then change the band count to 1, set the\n",
    "    # dtype to float32, and specify LZW compression.\n",
    "    profile.update(\n",
    "        dtype=rasterio.float32,\n",
    "        count=1,\n",
    "        compress='lzw')\n",
    "\n",
    "    with rasterio.open('ndvi.tif', 'w', **profile) as dst:\n",
    "        dst.write(ndvi.astype(rasterio.float32), 1)"
   ]
  }
 ],
 "metadata": {
  "interpreter": {
   "hash": "8c08fd7d4240938e40fb81f2c83c242862c7f34031dbd6a4fb561a939ce86094"
  },
  "kernelspec": {
   "display_name": "Python 3.9.7 ('base')",
   "language": "python",
   "name": "python3"
  },
  "language_info": {
   "codemirror_mode": {
    "name": "ipython",
    "version": 3
   },
   "file_extension": ".py",
   "mimetype": "text/x-python",
   "name": "python",
   "nbconvert_exporter": "python",
   "pygments_lexer": "ipython3",
   "version": "3.9.7"
  },
  "orig_nbformat": 4
 },
 "nbformat": 4,
 "nbformat_minor": 2
}
